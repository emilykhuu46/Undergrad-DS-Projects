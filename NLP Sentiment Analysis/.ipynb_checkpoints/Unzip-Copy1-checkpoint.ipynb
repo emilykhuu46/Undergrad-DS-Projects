{
 "cells": [
  {
   "cell_type": "code",
   "execution_count": 1,
   "id": "0fe1e40b-f7c7-4c45-9c45-20ef78835332",
   "metadata": {},
   "outputs": [
    {
     "name": "stdout",
     "output_type": "stream",
     "text": [
      "True\n"
     ]
    }
   ],
   "source": [
    "import zipfile\n",
    "\n",
    "def main():\n",
    "    print(zipfile.is_zipfile('test.tsv.zip'))\n",
    "\n",
    "if __name__ == '__main__': main()\n"
   ]
  },
  {
   "cell_type": "code",
   "execution_count": 2,
   "id": "ac1a0914-7d0c-44a5-b239-e6c7fcbe9e6e",
   "metadata": {},
   "outputs": [
    {
     "name": "stdout",
     "output_type": "stream",
     "text": [
      "File Name                                             Modified             Size\n",
      "test.tsv                                       2018-05-03 05:12:12      3367149\n",
      "None\n",
      "Extracting all files...\n",
      "Done!\n"
     ]
    }
   ],
   "source": [
    "import zipfile\n",
    "\n",
    "def main():\n",
    "    file_name = 'test.tsv.zip'\n",
    "\n",
    "    with zipfile.ZipFile(file_name, 'r') as file:\n",
    "        print(file.printdir())\n",
    "\n",
    "        print('Extracting all files...')\n",
    "        file.extractall()\n",
    "        print('Done!') \n",
    "\n",
    "if __name__ == '__main__': main()\n"
   ]
  },
  {
   "cell_type": "code",
   "execution_count": 3,
   "id": "f12f4bf6-4335-45de-b341-b7d11a49670b",
   "metadata": {},
   "outputs": [
    {
     "name": "stdout",
     "output_type": "stream",
     "text": [
      "File Name                                             Modified             Size\n",
      "train.tsv                                      2018-05-03 05:12:12      8481022\n",
      "None\n",
      "Extracting all files...\n",
      "Done!\n"
     ]
    }
   ],
   "source": [
    "def main():\n",
    "\n",
    "    file_name = 'train.tsv.zip'\n",
    "\n",
    "    with zipfile.ZipFile(file_name, 'r') as file:\n",
    "        print(file.printdir())\n",
    "\n",
    "        print('Extracting all files...')\n",
    "        file.extractall()\n",
    "        print('Done!') \n",
    "\n",
    "if __name__ == '__main__': main()"
   ]
  },
  {
   "cell_type": "code",
   "execution_count": null,
   "id": "f6bc157b-efb8-4cd2-9968-ad47ebc05c85",
   "metadata": {},
   "outputs": [],
   "source": []
  }
 ],
 "metadata": {
  "kernelspec": {
   "display_name": "Python 3 (ipykernel)",
   "language": "python",
   "name": "python3"
  },
  "language_info": {
   "codemirror_mode": {
    "name": "ipython",
    "version": 3
   },
   "file_extension": ".py",
   "mimetype": "text/x-python",
   "name": "python",
   "nbconvert_exporter": "python",
   "pygments_lexer": "ipython3",
   "version": "3.10.12"
  }
 },
 "nbformat": 4,
 "nbformat_minor": 5
}
