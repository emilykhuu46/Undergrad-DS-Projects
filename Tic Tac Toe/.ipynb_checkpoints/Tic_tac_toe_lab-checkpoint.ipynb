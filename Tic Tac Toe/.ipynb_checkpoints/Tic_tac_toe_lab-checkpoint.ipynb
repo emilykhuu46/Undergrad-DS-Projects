{
 "cells": [
  {
   "cell_type": "markdown",
   "metadata": {},
   "source": [
    "## Lab 2- Tic Tac Toe\n",
    "\n",
    "In this lab your will build a n x n Tic Tac Toe game. As you do the exercises, make sure your solutions work for any size Tic Tac Toe game. "
   ]
  },
  {
   "cell_type": "markdown",
   "metadata": {},
   "source": [
    "*Exercise 1:* Write a function that creates an n by n matrix (of list of lists) which will represent the state of a Tie Tac Toe game. Let 0, 1, and 2 represent empty, \"X\", and \"O\", respectively.\n"
   ]
  },
  {
   "cell_type": "code",
   "execution_count": 1,
   "metadata": {},
   "outputs": [],
   "source": [
    "# Write you solution here\n",
    "X=1\n",
    "O=2\n",
    "empty=0\n",
    "\n",
    "def size():\n",
    "    gamesize=int(input('Please choose the size of the tic-tac-toe game (nxn): '))\n",
    "    return gamesize\n",
    "\n",
    "def first_board():\n",
    "    board_size=size()\n",
    "    \n",
    "    board=[[empty]*board_size for i in range(board_size)]\n",
    "    \n",
    "    for count, row in enumerate(board):\n",
    "        print(count,row)"
   ]
  },
  {
   "cell_type": "code",
   "execution_count": 2,
   "metadata": {},
   "outputs": [
    {
     "name": "stdin",
     "output_type": "stream",
     "text": [
      "Please choose the size of the tic-tac-toe game (nxn):  3\n"
     ]
    },
    {
     "name": "stdout",
     "output_type": "stream",
     "text": [
      "0 [0, 0, 0]\n",
      "1 [0, 0, 0]\n",
      "2 [0, 0, 0]\n"
     ]
    }
   ],
   "source": [
    "# Test your solution here\n",
    "first_board()"
   ]
  },
  {
   "cell_type": "markdown",
   "metadata": {},
   "source": [
    "*Exercise 2:* Write a function that takes 2 integers `n` and `m` as input and draws a `n` by `m` game board. For example the following is a 3x3 board:\n",
    "```\n",
    "   --- --- --- \n",
    "  |   |   |   | \n",
    "   --- --- ---  \n",
    "  |   |   |   | \n",
    "   --- --- ---  \n",
    "  |   |   |   | \n",
    "   --- --- --- \n",
    "   ```"
   ]
  },
  {
   "cell_type": "code",
   "execution_count": 3,
   "metadata": {},
   "outputs": [],
   "source": [
    "# Write you solution here\n",
    "def new_board(n,m):\n",
    "    for i in range(n):\n",
    "        print(\" ---\"*n)\n",
    "        \n",
    "        for j in range(m):\n",
    "            print(\"|  \", end=\" \")\n",
    "        print(\"|\")\n",
    "        \n",
    "    print(\" ---\"*n)"
   ]
  },
  {
   "cell_type": "code",
   "execution_count": 4,
   "metadata": {},
   "outputs": [
    {
     "name": "stdout",
     "output_type": "stream",
     "text": [
      " --- --- ---\n",
      "|   |   |   |\n",
      " --- --- ---\n",
      "|   |   |   |\n",
      " --- --- ---\n",
      "|   |   |   |\n",
      " --- --- ---\n"
     ]
    }
   ],
   "source": [
    "# Test your solution here\n",
    "n=3\n",
    "m=3\n",
    "new_board(n,m)"
   ]
  },
  {
   "cell_type": "markdown",
   "metadata": {},
   "source": [
    "*Exercise 3:* Modify exercise 2, so that it takes a matrix of the form from exercise 1 and draws a tic-tac-tie board with \"X\"s and \"O\"s.  "
   ]
  },
  {
   "cell_type": "code",
   "execution_count": 5,
   "metadata": {},
   "outputs": [],
   "source": [
    "# Write you solution here\n",
    "sym_change={0:' ',1:'X',2:'O'}\n",
    "\n",
    "def clean_board(game_board):\n",
    "    for i in range(len(game_board)):\n",
    "        print(\" ---\"*len(game_board))\n",
    "        \n",
    "        for j in range(len(game_board)):\n",
    "            print(\"|\", sym_change.get(game_board[i][j]), end=\" \")\n",
    "        print(\"|\")\n",
    "        \n",
    "    print(\" ---\"*len(game_board))"
   ]
  },
  {
   "cell_type": "code",
   "execution_count": 6,
   "metadata": {},
   "outputs": [
    {
     "name": "stdout",
     "output_type": "stream",
     "text": [
      " --- --- ---\n",
      "|   | X | O |\n",
      " --- --- ---\n",
      "| X | O |   |\n",
      " --- --- ---\n",
      "|   |   | X |\n",
      " --- --- ---\n"
     ]
    }
   ],
   "source": [
    "# Test your solution here\n",
    "random_board=[[0,1,2],\n",
    "             [1,2,0],\n",
    "             [0,0,1]]\n",
    "clean_board(random_board)"
   ]
  },
  {
   "cell_type": "markdown",
   "metadata": {},
   "source": [
    "*Exercise 4:* Write a function that takes a `n` by `n` matrix representing a tic-tac-toe game, and returns -1, 0, 1, or 2 indicating the game is incomplete, the game is a draw, player 1 has won, or player 2 has one, respectively. Here are some example inputs you can use to test your code:"
   ]
  },
  {
   "cell_type": "code",
   "execution_count": 7,
   "metadata": {},
   "outputs": [],
   "source": [
    "# Write you solution here\n",
    "incomplete=-1\n",
    "draw=0\n",
    "player_1_win=1\n",
    "player_2_win=2\n",
    "game_dict = {-1:'the game is incomplete', 0:'the game is a draw', 1:'player 1 wins!',2:'player 2 wins!'}\n",
    "\n",
    "def row_winner(game_board,player):\n",
    "    for row in game_board:\n",
    "        row_win=True\n",
    "        \n",
    "        for square in row:\n",
    "            if square!=player:\n",
    "                row_win=False\n",
    "        \n",
    "        if row_win:\n",
    "            return True\n",
    "    return False\n",
    "\n",
    "def column_winner(game_board,player):\n",
    "    for i in range(len(game_board)):\n",
    "        col_win=True\n",
    "        \n",
    "        for row in game_board:\n",
    "            if row[i]!=player:\n",
    "                col_win=False\n",
    "                \n",
    "        if col_win:\n",
    "            return True\n",
    "    return False\n",
    "\n",
    "def diag_winner(game_board,player):\n",
    "    diag=True\n",
    "    opp_diag=True\n",
    "    \n",
    "    for i in range(len(game_board)):\n",
    "        if game_board[i][i]!=player:\n",
    "            diag=False\n",
    "        if game_board[len(game_board)-1-i]!=player:\n",
    "            opp_diag=False\n",
    "            \n",
    "    return diag or opp_diag\n",
    "\n",
    "def full_board(game_board):\n",
    "    for i in range(len(game_board)):\n",
    "        for j in range(len(game_board)):\n",
    "            if game_board[i][j]==empty:\n",
    "                return False\n",
    "    return True\n",
    "\n",
    "def find_winner(game_board):\n",
    "    \n",
    "    #find player 1 winner scenarios\n",
    "    if row_winner(game_board,1) or column_winner(game_board,1) or diag_winner(game_board,1):\n",
    "        return player_1_win\n",
    "    \n",
    "    #find player 2 winner scenarios\n",
    "    if row_winner(game_board,2) or column_winner(game_board,2) or diag_winner(game_board,2):\n",
    "        return player_2_win\n",
    "    \n",
    "    #find draw scenarios\n",
    "    if full_board(game_board):\n",
    "        return draw\n",
    "    \n",
    "    #if none of the above the game is unfinished\n",
    "    return incomplete\n",
    "        "
   ]
  },
  {
   "cell_type": "code",
   "execution_count": 9,
   "metadata": {},
   "outputs": [
    {
     "name": "stdout",
     "output_type": "stream",
     "text": [
      "False\n",
      "True\n",
      "True\n"
     ]
    }
   ],
   "source": [
    "# Test your solution here\n",
    "print(row_winner(winner_is_2,2))\n",
    "print(column_winner(winner_is_2,2))\n",
    "print(diag_winner(winner_is_1,1))"
   ]
  },
  {
   "cell_type": "code",
   "execution_count": 8,
   "metadata": {},
   "outputs": [],
   "source": [
    "winner_is_2 = [[2, 2, 0],\n",
    "\t[2, 1, 0],\n",
    "\t[2, 1, 1]]\n",
    "\n",
    "winner_is_1 = [[1, 2, 0],\n",
    "\t[2, 1, 0],\n",
    "\t[2, 1, 1]]\n",
    "\n",
    "winner_is_also_1 = [[0, 1, 0],\n",
    "\t[2, 1, 0],\n",
    "\t[2, 1, 1]]\n",
    "\n",
    "no_winner = [[1, 2, 0],\n",
    "\t[2, 1, 0],\n",
    "\t[2, 1, 2]]\n",
    "\n",
    "also_no_winner = [[1, 2, 0],\n",
    "\t[2, 1, 0],\n",
    "\t[2, 1, 0]]"
   ]
  },
  {
   "cell_type": "code",
   "execution_count": 10,
   "metadata": {},
   "outputs": [
    {
     "name": "stdout",
     "output_type": "stream",
     "text": [
      "player 2 wins!\n",
      "player 1 wins!\n",
      "player 1 wins!\n",
      "the game is incomplete\n",
      "the game is incomplete\n"
     ]
    }
   ],
   "source": [
    "print(game_dict.get(find_winner(winner_is_2)))\n",
    "print(game_dict.get(find_winner(winner_is_1)))\n",
    "print(game_dict.get(find_winner(winner_is_also_1)))\n",
    "print(game_dict.get(find_winner(no_winner)))\n",
    "print(game_dict.get(find_winner(also_no_winner)))"
   ]
  },
  {
   "cell_type": "markdown",
   "metadata": {},
   "source": [
    "*Exercise 5:* Write a function that takes a game board, player number, and `(x,y)` coordinates and places \"X\" or \"O\" in the correct location of the game board. Make sure that you only allow filling previously empty locations. Return `True` or `False` to indicate successful placement of \"X\" or \"O\"."
   ]
  },
  {
   "cell_type": "code",
   "execution_count": 11,
   "metadata": {},
   "outputs": [],
   "source": [
    "# Write you solution here\n",
    "def print_board(game_board, player, x, y):\n",
    "    if not valid_move(x,y, len(game_board)):\n",
    "        return False\n",
    "    if occupied_space(game_board,x,y):\n",
    "        return False\n",
    "    if x_or_o(game_board,player,x,y):\n",
    "        return True\n",
    "\n",
    "def valid_move(x,y,board_length):\n",
    "    if x<0 or x>=board_length or y<0 or y>=board_length:\n",
    "        print('outside of board')\n",
    "        return False\n",
    "    return True\n",
    "\n",
    "def occupied_space(game_board,x,y):\n",
    "    if game_board[x][y]!=empty:\n",
    "        print('space is occupied, pick a different space')\n",
    "        return True\n",
    "    return False\n",
    "\n",
    "def x_or_o(game_board,player,x,y):\n",
    "    if player==1:\n",
    "        game_board[x][y]= X\n",
    "    elif player==2:\n",
    "        game_board[x][y]= O\n",
    "    else:\n",
    "        print('invalid player')\n",
    "        return False\n",
    "    \n",
    "    return True  \n",
    "\n",
    "    "
   ]
  },
  {
   "cell_type": "code",
   "execution_count": 13,
   "metadata": {},
   "outputs": [
    {
     "name": "stdout",
     "output_type": "stream",
     "text": [
      " --- --- ---\n",
      "| X |   |   |\n",
      " --- --- ---\n",
      "|   | O |   |\n",
      " --- --- ---\n",
      "|   |   |   |\n",
      " --- --- ---\n"
     ]
    },
    {
     "name": "stdin",
     "output_type": "stream",
     "text": [
      "Which player?  1\n",
      "X-coordinate position is:  1\n",
      "Y-coordinate position is:  1\n"
     ]
    },
    {
     "name": "stdout",
     "output_type": "stream",
     "text": [
      "space is occupied, pick a different space\n"
     ]
    },
    {
     "name": "stdin",
     "output_type": "stream",
     "text": [
      "Which player?  2\n",
      "X-coordinate position is:  2\n",
      "Y-coordinate position is:  1\n"
     ]
    },
    {
     "name": "stdout",
     "output_type": "stream",
     "text": [
      " --- --- ---\n",
      "| X |   |   |\n",
      " --- --- ---\n",
      "|   | O |   |\n",
      " --- --- ---\n",
      "|   | O |   |\n",
      " --- --- ---\n",
      "None\n"
     ]
    }
   ],
   "source": [
    "# Test your solution here\n",
    "empty_board=[[1,0,0],[0,2,0],[0,0,0]]\n",
    "\n",
    "\n",
    "\n",
    "good_move=False\n",
    "clean_board(empty_board)\n",
    "\n",
    "while not good_move:\n",
    "    player_turn=int(input('Which player? '))\n",
    "    x_position=int(input('X-coordinate position is: '))\n",
    "    y_position=int(input('Y-coordinate position is: '))\n",
    "    \n",
    "    good_move=print_board(empty_board, player_turn, x_position, y_position)\n",
    "\n",
    "print(clean_board(empty_board))"
   ]
  },
  {
   "cell_type": "markdown",
   "metadata": {},
   "source": [
    "*Exercise 6:* Modify Exercise 4 to show column and row labels so that players can specify location using \"A2\" or \"C1\"."
   ]
  },
  {
   "cell_type": "code",
   "execution_count": 14,
   "metadata": {},
   "outputs": [],
   "source": [
    "# Write you solution here\n",
    "row_names=list('ABCDEFGHIJKLMNOPQRSTUVWXYZ')\n",
    "row_map=dict(zip(row_names,range(len(row_names))))\n",
    "column_names=list(map(str, range(1,len(row_names)+1)))\n",
    "column_map=dict(zip(column_names, range(len(row_names))))\n",
    "\n",
    "def labeled_board(new_board):\n",
    "    print(' ', end=' ')\n",
    "    for j in range(len(new_board)):\n",
    "        print(\"  \"+column_names[j], end=' ')\n",
    "    print()\n",
    "    \n",
    "    for i in range(len(new_board)):\n",
    "        print('  ','--- '*(len(new_board)))\n",
    "    \n",
    "        print(row_names[i]+' |', end=' ')\n",
    "        for j in range(len(new_board)):\n",
    "            print(sym_change[new_board[i][j]]+' |', end=' ')\n",
    "        print()\n",
    "    \n",
    "    print('  ','--- '*len(new_board))"
   ]
  },
  {
   "cell_type": "code",
   "execution_count": 16,
   "metadata": {},
   "outputs": [
    {
     "name": "stdout",
     "output_type": "stream",
     "text": [
      "    1   2   3 \n",
      "   --- --- --- \n",
      "A | O | O |   | \n",
      "   --- --- --- \n",
      "B | O | X |   | \n",
      "   --- --- --- \n",
      "C | O | X | X | \n",
      "   --- --- --- \n",
      "    1   2   3   4 \n",
      "   --- --- --- --- \n",
      "A |   |   |   |   | \n",
      "   --- --- --- --- \n",
      "B |   | X |   |   | \n",
      "   --- --- --- --- \n",
      "C |   |   | O |   | \n",
      "   --- --- --- --- \n",
      "D |   |   |   |   | \n",
      "   --- --- --- --- \n"
     ]
    }
   ],
   "source": [
    "# Test your solution here\n",
    "\n",
    "a=[[0,0,0,0],\n",
    "   [0,1,0,0],\n",
    "   [0,0,2,0],\n",
    "   [0,0,0,0]]\n",
    "labeled_board(winner_is_2)\n",
    "labeled_board(a)"
   ]
  },
  {
   "cell_type": "markdown",
   "metadata": {},
   "source": [
    "*Exercise 7:* Write a function that takes a board, player number, and location specified as in exercise 6 and then calls exercise 5 to correctly modify the board.  "
   ]
  },
  {
   "cell_type": "code",
   "execution_count": 17,
   "metadata": {},
   "outputs": [],
   "source": [
    "# Write you solution here\n",
    "def parse_location(loc):\n",
    "    if not isinstance(loc,str):\n",
    "        print('location must be a string, try again')\n",
    "        return False\n",
    "    \n",
    "    if len(loc)!=2:\n",
    "        print('location must be 2 characters, try again')\n",
    "        return False\n",
    "    \n",
    "    row=loc[0].upper()\n",
    "    col=loc[1].upper()\n",
    "    \n",
    "    if not row in row_names:\n",
    "        print('row not on board')\n",
    "        return False\n",
    "    \n",
    "    if not col in column_names:\n",
    "        print('column not on board')\n",
    "    \n",
    "    return row_map[row],column_map[col], True\n",
    "\n",
    "def parse_move(game_board, player, loc):\n",
    "    row, col, success=parse_location(loc)\n",
    "    \n",
    "    if success: \n",
    "        return print_board(game_board,player,row,col)\n",
    "    else: \n",
    "        return False"
   ]
  },
  {
   "cell_type": "code",
   "execution_count": 18,
   "metadata": {},
   "outputs": [
    {
     "data": {
      "text/plain": [
       "(1, 1, True)"
      ]
     },
     "execution_count": 18,
     "metadata": {},
     "output_type": "execute_result"
    }
   ],
   "source": [
    "# Test your solution here\n",
    "parse_location('B2')"
   ]
  },
  {
   "cell_type": "code",
   "execution_count": 19,
   "metadata": {},
   "outputs": [
    {
     "name": "stdout",
     "output_type": "stream",
     "text": [
      "    1   2   3 \n",
      "   --- --- --- \n",
      "A | X |   |   | \n",
      "   --- --- --- \n",
      "B |   | O |   | \n",
      "   --- --- --- \n",
      "C |   | O |   | \n",
      "   --- --- --- \n"
     ]
    },
    {
     "name": "stdin",
     "output_type": "stream",
     "text": [
      "Which player?  1\n",
      "Choose a square location:  a1\n"
     ]
    },
    {
     "name": "stdout",
     "output_type": "stream",
     "text": [
      "space is occupied, pick a different space\n"
     ]
    },
    {
     "name": "stdin",
     "output_type": "stream",
     "text": [
      "Which player?  1\n",
      "Choose a square location:  a2\n"
     ]
    },
    {
     "name": "stdout",
     "output_type": "stream",
     "text": [
      "    1   2   3 \n",
      "   --- --- --- \n",
      "A | X | X |   | \n",
      "   --- --- --- \n",
      "B |   | O |   | \n",
      "   --- --- --- \n",
      "C |   | O |   | \n",
      "   --- --- --- \n"
     ]
    }
   ],
   "source": [
    "good_move=False\n",
    "labeled_board(empty_board)\n",
    "\n",
    "while not good_move:\n",
    "    player_turn=int(input('Which player? '))\n",
    "    loc_choice=str(input('Choose a square location: '))\n",
    "    \n",
    "    good_move=parse_move(empty_board, player_turn, loc_choice)\n",
    "\n",
    "labeled_board(empty_board)"
   ]
  },
  {
   "cell_type": "markdown",
   "metadata": {},
   "source": [
    "*Exercise 8:* Write a function is called with a board and player number, takes input from the player using python's `input`, and modifies the board using your function from exercise 7. Note that you should keep asking for input until you have gotten a valid input that results in a valid move."
   ]
  },
  {
   "cell_type": "code",
   "execution_count": 20,
   "metadata": {},
   "outputs": [],
   "source": [
    "# Write you solution here\n",
    "def take_move(game_board, player):\n",
    "    good_move=False\n",
    "    \n",
    "    while not good_move:\n",
    "        loc_choice=str(input('player ' +str(player)+ \" choose a location: \"))\n",
    "        \n",
    "        good_move=parse_move(game_board, player, loc_choice)\n",
    "        \n"
   ]
  },
  {
   "cell_type": "code",
   "execution_count": 21,
   "metadata": {},
   "outputs": [
    {
     "name": "stdin",
     "output_type": "stream",
     "text": [
      "player 1 choose a location:  a1\n"
     ]
    },
    {
     "name": "stdout",
     "output_type": "stream",
     "text": [
      "space is occupied, pick a different space\n"
     ]
    },
    {
     "name": "stdin",
     "output_type": "stream",
     "text": [
      "player 1 choose a location:  c1\n"
     ]
    },
    {
     "name": "stdout",
     "output_type": "stream",
     "text": [
      "    1   2   3 \n",
      "   --- --- --- \n",
      "A | X | X |   | \n",
      "   --- --- --- \n",
      "B |   | O |   | \n",
      "   --- --- --- \n",
      "C | X | O |   | \n",
      "   --- --- --- \n"
     ]
    }
   ],
   "source": [
    "# Test your solution here\n",
    "take_move(empty_board,1)\n",
    "labeled_board(empty_board)"
   ]
  },
  {
   "cell_type": "markdown",
   "metadata": {},
   "source": [
    "*Exercise 9:* Use all of the previous exercises to implement a full tic-tac-toe game, where an appropriate board is drawn, 2 players are repeatedly asked for a location coordinates of where they wish to place a mark, and the game status is checked until a player wins or a draw occurs."
   ]
  },
  {
   "cell_type": "code",
   "execution_count": 22,
   "metadata": {},
   "outputs": [],
   "source": [
    "# Write you solution here\n",
    "def player_switch(player):\n",
    "    if player==1:\n",
    "        return 2\n",
    "    else:\n",
    "        return 1\n",
    "\n",
    "def full_game():\n",
    "    \n",
    "    player=2\n",
    "    \n",
    "    game_size=size()\n",
    "    new_board=[[empty]*game_size for index in range(game_size)]\n",
    "    \n",
    "    labeled_board(new_board)\n",
    "    \n",
    "    while find_winner(new_board)==incomplete:\n",
    "        player=player_switch(player)\n",
    "        take_move(new_board,player)\n",
    "        labeled_board(new_board)\n",
    "    \n",
    "    print(game_dict.get(find_winner(new_board)))\n",
    "    \n",
    "    "
   ]
  },
  {
   "cell_type": "code",
   "execution_count": 22,
   "metadata": {},
   "outputs": [
    {
     "name": "stdin",
     "output_type": "stream",
     "text": [
      "please choose the size of the board (nxn):  3\n"
     ]
    },
    {
     "name": "stdout",
     "output_type": "stream",
     "text": [
      "    1   2   3 \n",
      "   --- --- --- \n",
      "A |   |   |   | \n",
      "   --- --- --- \n",
      "B |   |   |   | \n",
      "   --- --- --- \n",
      "C |   |   |   | \n",
      "   --- --- --- \n"
     ]
    },
    {
     "name": "stdin",
     "output_type": "stream",
     "text": [
      "player 1 choose a location:  b2\n"
     ]
    },
    {
     "name": "stdout",
     "output_type": "stream",
     "text": [
      "    1   2   3 \n",
      "   --- --- --- \n",
      "A |   |   |   | \n",
      "   --- --- --- \n",
      "B |   | X |   | \n",
      "   --- --- --- \n",
      "C |   |   |   | \n",
      "   --- --- --- \n"
     ]
    },
    {
     "name": "stdin",
     "output_type": "stream",
     "text": [
      "player 2 choose a location:  a1\n"
     ]
    },
    {
     "name": "stdout",
     "output_type": "stream",
     "text": [
      "    1   2   3 \n",
      "   --- --- --- \n",
      "A | O |   |   | \n",
      "   --- --- --- \n",
      "B |   | X |   | \n",
      "   --- --- --- \n",
      "C |   |   |   | \n",
      "   --- --- --- \n"
     ]
    },
    {
     "name": "stdin",
     "output_type": "stream",
     "text": [
      "player 1 choose a location:  a2\n"
     ]
    },
    {
     "name": "stdout",
     "output_type": "stream",
     "text": [
      "    1   2   3 \n",
      "   --- --- --- \n",
      "A | O | X |   | \n",
      "   --- --- --- \n",
      "B |   | X |   | \n",
      "   --- --- --- \n",
      "C |   |   |   | \n",
      "   --- --- --- \n"
     ]
    },
    {
     "name": "stdin",
     "output_type": "stream",
     "text": [
      "player 2 choose a location:  c1\n"
     ]
    },
    {
     "name": "stdout",
     "output_type": "stream",
     "text": [
      "    1   2   3 \n",
      "   --- --- --- \n",
      "A | O | X |   | \n",
      "   --- --- --- \n",
      "B |   | X |   | \n",
      "   --- --- --- \n",
      "C | O |   |   | \n",
      "   --- --- --- \n"
     ]
    },
    {
     "name": "stdin",
     "output_type": "stream",
     "text": [
      "player 1 choose a location:  c2\n"
     ]
    },
    {
     "name": "stdout",
     "output_type": "stream",
     "text": [
      "    1   2   3 \n",
      "   --- --- --- \n",
      "A | O | X |   | \n",
      "   --- --- --- \n",
      "B |   | X |   | \n",
      "   --- --- --- \n",
      "C | O | X |   | \n",
      "   --- --- --- \n",
      "player 1 wins\n"
     ]
    }
   ],
   "source": [
    "# Test your solution here\n",
    "full_game()"
   ]
  },
  {
   "cell_type": "markdown",
   "metadata": {},
   "source": [
    "*Exercise 10:* Test that your game works for 5x5 Tic Tac Toe.  "
   ]
  },
  {
   "cell_type": "code",
   "execution_count": 23,
   "metadata": {},
   "outputs": [
    {
     "name": "stdin",
     "output_type": "stream",
     "text": [
      "Please choose the size of the tic-tac-toe game (nxn):  5\n"
     ]
    },
    {
     "name": "stdout",
     "output_type": "stream",
     "text": [
      "    1   2   3   4   5 \n",
      "   --- --- --- --- --- \n",
      "A |   |   |   |   |   | \n",
      "   --- --- --- --- --- \n",
      "B |   |   |   |   |   | \n",
      "   --- --- --- --- --- \n",
      "C |   |   |   |   |   | \n",
      "   --- --- --- --- --- \n",
      "D |   |   |   |   |   | \n",
      "   --- --- --- --- --- \n",
      "E |   |   |   |   |   | \n",
      "   --- --- --- --- --- \n"
     ]
    },
    {
     "name": "stdin",
     "output_type": "stream",
     "text": [
      "player 1 choose a location:  e1\n"
     ]
    },
    {
     "name": "stdout",
     "output_type": "stream",
     "text": [
      "    1   2   3   4   5 \n",
      "   --- --- --- --- --- \n",
      "A |   |   |   |   |   | \n",
      "   --- --- --- --- --- \n",
      "B |   |   |   |   |   | \n",
      "   --- --- --- --- --- \n",
      "C |   |   |   |   |   | \n",
      "   --- --- --- --- --- \n",
      "D |   |   |   |   |   | \n",
      "   --- --- --- --- --- \n",
      "E | X |   |   |   |   | \n",
      "   --- --- --- --- --- \n"
     ]
    },
    {
     "name": "stdin",
     "output_type": "stream",
     "text": [
      "player 2 choose a location:  a1\n"
     ]
    },
    {
     "name": "stdout",
     "output_type": "stream",
     "text": [
      "    1   2   3   4   5 \n",
      "   --- --- --- --- --- \n",
      "A | O |   |   |   |   | \n",
      "   --- --- --- --- --- \n",
      "B |   |   |   |   |   | \n",
      "   --- --- --- --- --- \n",
      "C |   |   |   |   |   | \n",
      "   --- --- --- --- --- \n",
      "D |   |   |   |   |   | \n",
      "   --- --- --- --- --- \n",
      "E | X |   |   |   |   | \n",
      "   --- --- --- --- --- \n"
     ]
    },
    {
     "name": "stdin",
     "output_type": "stream",
     "text": [
      "player 1 choose a location:  d1\n"
     ]
    },
    {
     "name": "stdout",
     "output_type": "stream",
     "text": [
      "    1   2   3   4   5 \n",
      "   --- --- --- --- --- \n",
      "A | O |   |   |   |   | \n",
      "   --- --- --- --- --- \n",
      "B |   |   |   |   |   | \n",
      "   --- --- --- --- --- \n",
      "C |   |   |   |   |   | \n",
      "   --- --- --- --- --- \n",
      "D | X |   |   |   |   | \n",
      "   --- --- --- --- --- \n",
      "E | X |   |   |   |   | \n",
      "   --- --- --- --- --- \n"
     ]
    },
    {
     "name": "stdin",
     "output_type": "stream",
     "text": [
      "player 2 choose a location:  b2\n"
     ]
    },
    {
     "name": "stdout",
     "output_type": "stream",
     "text": [
      "    1   2   3   4   5 \n",
      "   --- --- --- --- --- \n",
      "A | O |   |   |   |   | \n",
      "   --- --- --- --- --- \n",
      "B |   | O |   |   |   | \n",
      "   --- --- --- --- --- \n",
      "C |   |   |   |   |   | \n",
      "   --- --- --- --- --- \n",
      "D | X |   |   |   |   | \n",
      "   --- --- --- --- --- \n",
      "E | X |   |   |   |   | \n",
      "   --- --- --- --- --- \n"
     ]
    },
    {
     "name": "stdin",
     "output_type": "stream",
     "text": [
      "player 1 choose a location:  c1\n"
     ]
    },
    {
     "name": "stdout",
     "output_type": "stream",
     "text": [
      "    1   2   3   4   5 \n",
      "   --- --- --- --- --- \n",
      "A | O |   |   |   |   | \n",
      "   --- --- --- --- --- \n",
      "B |   | O |   |   |   | \n",
      "   --- --- --- --- --- \n",
      "C | X |   |   |   |   | \n",
      "   --- --- --- --- --- \n",
      "D | X |   |   |   |   | \n",
      "   --- --- --- --- --- \n",
      "E | X |   |   |   |   | \n",
      "   --- --- --- --- --- \n"
     ]
    },
    {
     "name": "stdin",
     "output_type": "stream",
     "text": [
      "player 2 choose a location:  c3\n"
     ]
    },
    {
     "name": "stdout",
     "output_type": "stream",
     "text": [
      "    1   2   3   4   5 \n",
      "   --- --- --- --- --- \n",
      "A | O |   |   |   |   | \n",
      "   --- --- --- --- --- \n",
      "B |   | O |   |   |   | \n",
      "   --- --- --- --- --- \n",
      "C | X |   | O |   |   | \n",
      "   --- --- --- --- --- \n",
      "D | X |   |   |   |   | \n",
      "   --- --- --- --- --- \n",
      "E | X |   |   |   |   | \n",
      "   --- --- --- --- --- \n"
     ]
    },
    {
     "name": "stdin",
     "output_type": "stream",
     "text": [
      "player 1 choose a location:  d2\n"
     ]
    },
    {
     "name": "stdout",
     "output_type": "stream",
     "text": [
      "    1   2   3   4   5 \n",
      "   --- --- --- --- --- \n",
      "A | O |   |   |   |   | \n",
      "   --- --- --- --- --- \n",
      "B |   | O |   |   |   | \n",
      "   --- --- --- --- --- \n",
      "C | X |   | O |   |   | \n",
      "   --- --- --- --- --- \n",
      "D | X | X |   |   |   | \n",
      "   --- --- --- --- --- \n",
      "E | X |   |   |   |   | \n",
      "   --- --- --- --- --- \n"
     ]
    },
    {
     "name": "stdin",
     "output_type": "stream",
     "text": [
      "player 2 choose a location:  d4\n"
     ]
    },
    {
     "name": "stdout",
     "output_type": "stream",
     "text": [
      "    1   2   3   4   5 \n",
      "   --- --- --- --- --- \n",
      "A | O |   |   |   |   | \n",
      "   --- --- --- --- --- \n",
      "B |   | O |   |   |   | \n",
      "   --- --- --- --- --- \n",
      "C | X |   | O |   |   | \n",
      "   --- --- --- --- --- \n",
      "D | X | X |   | O |   | \n",
      "   --- --- --- --- --- \n",
      "E | X |   |   |   |   | \n",
      "   --- --- --- --- --- \n"
     ]
    },
    {
     "name": "stdin",
     "output_type": "stream",
     "text": [
      "player 1 choose a location:  e3\n"
     ]
    },
    {
     "name": "stdout",
     "output_type": "stream",
     "text": [
      "    1   2   3   4   5 \n",
      "   --- --- --- --- --- \n",
      "A | O |   |   |   |   | \n",
      "   --- --- --- --- --- \n",
      "B |   | O |   |   |   | \n",
      "   --- --- --- --- --- \n",
      "C | X |   | O |   |   | \n",
      "   --- --- --- --- --- \n",
      "D | X | X |   | O |   | \n",
      "   --- --- --- --- --- \n",
      "E | X |   | X |   |   | \n",
      "   --- --- --- --- --- \n"
     ]
    },
    {
     "name": "stdin",
     "output_type": "stream",
     "text": [
      "player 2 choose a location:  e5\n"
     ]
    },
    {
     "name": "stdout",
     "output_type": "stream",
     "text": [
      "    1   2   3   4   5 \n",
      "   --- --- --- --- --- \n",
      "A | O |   |   |   |   | \n",
      "   --- --- --- --- --- \n",
      "B |   | O |   |   |   | \n",
      "   --- --- --- --- --- \n",
      "C | X |   | O |   |   | \n",
      "   --- --- --- --- --- \n",
      "D | X | X |   | O |   | \n",
      "   --- --- --- --- --- \n",
      "E | X |   | X |   | O | \n",
      "   --- --- --- --- --- \n",
      "player 2 wins!\n"
     ]
    }
   ],
   "source": [
    "# Test your solution here\n",
    "full_game()"
   ]
  },
  {
   "cell_type": "markdown",
   "metadata": {},
   "source": [
    "*Exercise 11:* (Advanced / Challenge) Develop a version of the game where one player is the computer. Note that you don't need to do an extensive seach for the best move. You can have the computer simply protect against loosing and otherwise try to win with straight or diagonal patterns."
   ]
  },
  {
   "cell_type": "code",
   "execution_count": null,
   "metadata": {
    "collapsed": true,
    "jupyter": {
     "outputs_hidden": true
    }
   },
   "outputs": [],
   "source": [
    "# Write you solution here"
   ]
  },
  {
   "cell_type": "code",
   "execution_count": null,
   "metadata": {
    "collapsed": true,
    "jupyter": {
     "outputs_hidden": true
    }
   },
   "outputs": [],
   "source": [
    "# Test your solution here"
   ]
  }
 ],
 "metadata": {
  "kernelspec": {
   "display_name": "Python 3 (ipykernel)",
   "language": "python",
   "name": "python3"
  },
  "language_info": {
   "codemirror_mode": {
    "name": "ipython",
    "version": 3
   },
   "file_extension": ".py",
   "mimetype": "text/x-python",
   "name": "python",
   "nbconvert_exporter": "python",
   "pygments_lexer": "ipython3",
   "version": "3.10.12"
  }
 },
 "nbformat": 4,
 "nbformat_minor": 4
}
